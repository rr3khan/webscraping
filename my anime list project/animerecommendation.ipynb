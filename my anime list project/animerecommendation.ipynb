{
 "metadata": {
  "language_info": {
   "codemirror_mode": {
    "name": "ipython",
    "version": 3
   },
   "file_extension": ".py",
   "mimetype": "text/x-python",
   "name": "python",
   "nbconvert_exporter": "python",
   "pygments_lexer": "ipython3",
   "version": "3.8.2-final"
  },
  "orig_nbformat": 2,
  "kernelspec": {
   "name": "python_defaultSpec_1598060660720",
   "display_name": "Python 3.8.2 64-bit ('venv': venv)"
  }
 },
 "nbformat": 4,
 "nbformat_minor": 2,
 "cells": [
  {
   "cell_type": "code",
   "execution_count": 2,
   "metadata": {},
   "outputs": [],
   "source": [
    "#Description: An Anime recommendation engine using python\n",
    "#Import the libraries\n",
    "\n",
    "import pandas as pd\n",
    "import numpy as np\n",
    "from sklearn.feature_extraction.text import CountVectorizer\n",
    "from sklearn.metrics.pairwise import cosine_similarity\n",
    "import difflib\n"
   ]
  },
  {
   "cell_type": "code",
   "execution_count": 3,
   "metadata": {},
   "outputs": [],
   "source": [
    "#Setting up helper functions and reading the data\n",
    "def name_from_index(index):\n",
    "    return anime[anime.index == index][\"Name\"].values[0]\n",
    "\n",
    "def index_from_name(name):\n",
    "    name_list = anime['Name'].tolist()\n",
    "    common = difflib.get_close_matches(name, name_list, 1)\n",
    "    if (common == []):\n",
    "        print(f'Sorry but {name} is not in the database please try another anime')\n",
    "        return -1\n",
    "    namesim = common[0]\n",
    "    return anime[anime.Name == namesim][\"index\"].values[0]\n",
    "\n",
    "anime = pd.read_csv(\"ani.csv\")\n",
    "# anime = pd.read_csv(\"ani - Copy2.csv\")\n",
    "features = ['Source','Name', 'Studio' ,'Genre']\n",
    "# features = ['Source','Name','Genre']\n",
    "for feature in features:\n",
    "    anime[feature] = anime[feature].fillna('')\n",
    "\n",
    "def combine_features(row):\n",
    "    try:\n",
    "        return row['Source'] +\" \"+row['Studio']+\" \"+row['Name']+\" \"+row['Genre']\n",
    "        # return row['Source'] +\" \" +row['Name']+\" \"+row['Genre']\n",
    "    except:\n",
    "        print (\"Error:\", row)"
   ]
  },
  {
   "cell_type": "code",
   "execution_count": 4,
   "metadata": {},
   "outputs": [
    {
     "output_type": "execute_result",
     "data": {
      "text/plain": "   index                               Name  Score Episodes  \\\n0    NaN                                       NaN      NaN   \n1    1.0                  Youjo Senki Movie   8.32        1   \n2    2.0                                       NaN      NaN   \n3    3.0  Natsumes Book of Friends Season 3   8.61       13   \n4    4.0                                       NaN      NaN   \n\n                      Air Date             Source       Studio     id  \\\n0                          NaN                                    NaN   \n1                     8-Feb-19        Light novel          Nut  37055   \n2                          NaN                                    NaN   \n3  Jul 5, 2011 to Sep 27, 2011  NIS America, Inc.  Brains Base  10379   \n4                          NaN                                    NaN   \n\n                                               Genre  \n0                                                     \n1                            Action, Military, Magic  \n2                                                     \n3  Slice of Life, Demons, Supernatural, Drama, Sh...  \n4                                                     ",
      "text/html": "<div>\n<style scoped>\n    .dataframe tbody tr th:only-of-type {\n        vertical-align: middle;\n    }\n\n    .dataframe tbody tr th {\n        vertical-align: top;\n    }\n\n    .dataframe thead th {\n        text-align: right;\n    }\n</style>\n<table border=\"1\" class=\"dataframe\">\n  <thead>\n    <tr style=\"text-align: right;\">\n      <th></th>\n      <th>index</th>\n      <th>Name</th>\n      <th>Score</th>\n      <th>Episodes</th>\n      <th>Air Date</th>\n      <th>Source</th>\n      <th>Studio</th>\n      <th>id</th>\n      <th>Genre</th>\n    </tr>\n  </thead>\n  <tbody>\n    <tr>\n      <th>0</th>\n      <td>NaN</td>\n      <td></td>\n      <td>NaN</td>\n      <td>NaN</td>\n      <td>NaN</td>\n      <td></td>\n      <td></td>\n      <td>NaN</td>\n      <td></td>\n    </tr>\n    <tr>\n      <th>1</th>\n      <td>1.0</td>\n      <td>Youjo Senki Movie</td>\n      <td>8.32</td>\n      <td>1</td>\n      <td>8-Feb-19</td>\n      <td>Light novel</td>\n      <td>Nut</td>\n      <td>37055</td>\n      <td>Action, Military, Magic</td>\n    </tr>\n    <tr>\n      <th>2</th>\n      <td>2.0</td>\n      <td></td>\n      <td>NaN</td>\n      <td>NaN</td>\n      <td>NaN</td>\n      <td></td>\n      <td></td>\n      <td>NaN</td>\n      <td></td>\n    </tr>\n    <tr>\n      <th>3</th>\n      <td>3.0</td>\n      <td>Natsumes Book of Friends Season 3</td>\n      <td>8.61</td>\n      <td>13</td>\n      <td>Jul 5, 2011 to Sep 27, 2011</td>\n      <td>NIS America, Inc.</td>\n      <td>Brains Base</td>\n      <td>10379</td>\n      <td>Slice of Life, Demons, Supernatural, Drama, Sh...</td>\n    </tr>\n    <tr>\n      <th>4</th>\n      <td>4.0</td>\n      <td></td>\n      <td>NaN</td>\n      <td>NaN</td>\n      <td>NaN</td>\n      <td></td>\n      <td></td>\n      <td>NaN</td>\n      <td></td>\n    </tr>\n  </tbody>\n</table>\n</div>"
     },
     "metadata": {},
     "execution_count": 4
    }
   ],
   "source": [
    "anime.head()\n"
   ]
  },
  {
   "cell_type": "code",
   "execution_count": 5,
   "metadata": {
    "tags": []
   },
   "outputs": [
    {
     "output_type": "stream",
     "name": "stdout",
     "text": "\nOther anime similar to violet evergarden you might be interested in:-\n\n1) White Album 2\n2) Violet Evergarden Gaiden: Eien to Jidou Shuki Ningyou\n3) Les Misérables: Shoujo Cosette\n4) Tomorrows Joe\n5) Tanoshii Muumin Ikka\n6) Mitsudomoe Zouryouchuu!\n7) Ie Naki Ko\n8) Rocky Joe 2\n9) You and Me 2\n10) The Disastrous Life of Saiki K. 2\n11) My Daddy Long Legs\n12) Tales of Saiunkoku\n13) Karakai Jouzu no Takagi-san 2\n14) Wotakoi: Love is Hard for Otaku\n15) Miss Kobayashis Dragon Maid\n16) Hyouka\n17) Ginga Nagareboshi Gin\n18) Clannad\n19) Free! Starting Days\n20) Love, Chunibyo & Other Delusions!\n21) Banana Fish\n22) Tamako Love Story\n23) Magi: Adventure of Sinbad\n24) Free! -Take Your Marks-\n25) Re:Zero kara Hajimeru Isekai Seikatsu 2nd Season\n26) Weathering With You\n27) Cross Game\n28) Haibane Renmei\n29) Haikyuu!!: To the Top\n30) Mushishi Path of Thorns\n31) March comes in like a lion\n32) Pocos Udon World\n33) Natsumes Book of Friends\n34) 5 Centimeters Per Second\n35) Chihayafuru 3\n36) Natsumes Book of Friends Season 3\n37) Ranma ½\n38) Dororo\n39) Master Keaton OVA\n40) The Disastrous Life of Saiki K. Final Arc\n41) Little Busters! ~Refrain~\n42) Barakamon\n43) anohana: The Flower We Saw That Day\n44) Keep Your Hands Off Eizouken!\n45) Aria the Natural\n46) Bungou Stray Dogs 3rd Season\n47) Sound! Euphonium 2\n48) Usagi Drop Specials\n49) Sound! Euphonium\n50) Honey and Clover II\n"
    }
   ],
   "source": [
    "\n",
    "anime[\"combined_features\"] = anime.apply(combine_features,axis=1)\n",
    "\n",
    "cv = CountVectorizer()\n",
    "count_matrix = cv.fit_transform(anime[\"combined_features\"])\n",
    "cosine_sim = cosine_similarity(count_matrix) \n",
    "\n",
    "user_anime = input(\"Enter anime of your choice:\\t\")\n",
    "anime_index = index_from_name(user_anime)\n",
    "\n",
    "similar_animes =  list(enumerate(cosine_sim[int(anime_index)]))\n",
    "similar_animes_sorted = sorted(similar_animes,key=lambda x:x[1],reverse=True)\n",
    "count = 0\n",
    "if (anime_index != -1):\n",
    "    print(f\"\\nOther anime similar to {user_anime} you might be interested in:-\\n\")\n",
    "    for rec_anime in similar_animes_sorted:\n",
    "            if(count != 0):\n",
    "                print (count,\") \",name_from_index(rec_anime[0]),sep=\"\")\n",
    "            count +=1\n",
    "            if count > 50:\n",
    "                break"
   ]
  },
  {
   "cell_type": "code",
   "execution_count": null,
   "metadata": {},
   "outputs": [],
   "source": []
  }
 ]
}